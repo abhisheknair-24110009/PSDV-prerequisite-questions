{
 "cells": [
  {
   "cell_type": "markdown",
   "metadata": {},
   "source": [
    "# Prerequisite Questions for Probability, Statistics, and Data Visualization"
   ]
  },
  {
   "cell_type": "markdown",
   "metadata": {},
   "source": [
    "#### Submitted by: Abhishek Deepak Nair (24110009)"
   ]
  },
  {
   "cell_type": "markdown",
   "metadata": {},
   "source": [
    "#"
   ]
  },
  {
   "cell_type": "markdown",
   "metadata": {},
   "source": [
    "### 1. List Operations and Basic Statistics"
   ]
  },
  {
   "cell_type": "markdown",
   "metadata": {},
   "source": [
    "Creating a list of the first 20 natural numbers:"
   ]
  },
  {
   "cell_type": "code",
   "execution_count": 12,
   "metadata": {},
   "outputs": [
    {
     "name": "stdout",
     "output_type": "stream",
     "text": [
      "[1, 2, 3, 4, 5, 6, 7, 8, 9, 10, 11, 12, 13, 14, 15, 16, 17, 18, 19, 20]\n"
     ]
    }
   ],
   "source": [
    "nums = []\n",
    "for i in range(1, 21):\n",
    "    nums.append(i)\n",
    "\n",
    "print(nums)"
   ]
  },
  {
   "cell_type": "markdown",
   "metadata": {},
   "source": [
    "Finding sum of all even numbers in the list:"
   ]
  },
  {
   "cell_type": "code",
   "execution_count": 13,
   "metadata": {},
   "outputs": [
    {
     "name": "stdout",
     "output_type": "stream",
     "text": [
      "110\n"
     ]
    }
   ],
   "source": [
    "result = 0\n",
    "for i in nums:\n",
    "    if i%2 == 0:\n",
    "        result += i\n",
    "    else:\n",
    "        continue\n",
    "\n",
    "print(result)"
   ]
  },
  {
   "cell_type": "markdown",
   "metadata": {},
   "source": [
    "Finding the product of all odd numbers in the list:"
   ]
  },
  {
   "cell_type": "code",
   "execution_count": 14,
   "metadata": {},
   "outputs": [
    {
     "name": "stdout",
     "output_type": "stream",
     "text": [
      "654729075\n"
     ]
    }
   ],
   "source": [
    "prod = 1\n",
    "for i in nums:\n",
    "    if i%2 != 0:\n",
    "        prod *= i\n",
    "    else:\n",
    "        continue\n",
    "\n",
    "print(prod)"
   ]
  },
  {
   "cell_type": "markdown",
   "metadata": {},
   "source": [
    "Calculating mean, median and standard deviation of the list:"
   ]
  },
  {
   "cell_type": "code",
   "execution_count": 15,
   "metadata": {},
   "outputs": [
    {
     "name": "stdout",
     "output_type": "stream",
     "text": [
      "Mean = 10.5\n",
      "Median = 10.5\n",
      "Standard Deviation = 5.77\n"
     ]
    }
   ],
   "source": [
    "def mean(arr):\n",
    "    result = sum(arr)/len(arr)\n",
    "    return round(result, 2)\n",
    "\n",
    "def median(arr):\n",
    "    mid = len(arr)//2\n",
    "    array = sorted(arr)\n",
    "\n",
    "    if len(arr)%2 == 0:\n",
    "        total = array[mid] + array[mid - 1]\n",
    "        return total/2\n",
    "    else:\n",
    "        return array[mid]\n",
    "\n",
    "def standard_deviation(arr):\n",
    "    avg = mean(arr)\n",
    "    deviations = []\n",
    "    for i in arr:\n",
    "        deviations.append((i - avg)**2)\n",
    "    var = mean(deviations)\n",
    "    stddev = var**(0.5)\n",
    "\n",
    "    return round(stddev, 2)\n",
    "\n",
    "print(f\"Mean = {mean(nums)}\")\n",
    "print(f\"Median = {median(nums)}\")\n",
    "print(f\"Standard Deviation = {standard_deviation(nums)}\")"
   ]
  },
  {
   "cell_type": "markdown",
   "metadata": {},
   "source": [
    "#"
   ]
  },
  {
   "cell_type": "markdown",
   "metadata": {},
   "source": [
    "### 2. Mutable vs. Immutable Data Types"
   ]
  },
  {
   "cell_type": "markdown",
   "metadata": {},
   "source": [
    "Mutable datatypes can be changed by adding or removing elements from them. Some examples are: Lists and Sets, Dictionaries.\n",
    "\n",
    "Immutable datatypes cannot be changed after creation unless you convert them to a mutable datatype to do so or create a new variable. Some examples of immutable datatypes are: Strings, Tuples."
   ]
  },
  {
   "cell_type": "markdown",
   "metadata": {},
   "source": [
    "#"
   ]
  },
  {
   "cell_type": "markdown",
   "metadata": {},
   "source": [
    "### 3. Fibonacci Sequence"
   ]
  },
  {
   "cell_type": "markdown",
   "metadata": {},
   "source": [
    "Creating a Python function that takes a number `n` and returns a list of the first `n` Fibonacci numbers:"
   ]
  },
  {
   "cell_type": "code",
   "execution_count": 19,
   "metadata": {},
   "outputs": [
    {
     "name": "stdout",
     "output_type": "stream",
     "text": [
      "[0, 1, 1, 2, 3, 5, 8, 13, 21, 34]\n"
     ]
    }
   ],
   "source": [
    "def fibonacci(n):\n",
    "    fib = [0, 1]\n",
    "    if n == 1:\n",
    "        return [0]\n",
    "    elif n == 2:\n",
    "        return fib\n",
    "    else:\n",
    "        for _ in range(n-2):\n",
    "            num = fib[len(fib) - 1] + fib[len(fib) - 2]\n",
    "            fib.append(num)\n",
    "\n",
    "        return fib\n",
    "    \n",
    "print(fibonacci(10))\n",
    "    "
   ]
  },
  {
   "cell_type": "markdown",
   "metadata": {},
   "source": [
    "Plotting the function using a line graph (first 10 fibonacci numbers):"
   ]
  },
  {
   "cell_type": "code",
   "execution_count": 20,
   "metadata": {},
   "outputs": [
    {
     "data": {
      "image/png": "[encoded data removed]",
      "text/plain": [
       "<Figure size 640x480 with 1 Axes>"
      ]
     },
     "metadata": {},
     "output_type": "display_data"
    }
   ],
   "source": [
    "import matplotlib.pyplot as plt\n",
    "\n",
    "x = [i for i in range(1, 11)]\n",
    "y = fibonacci(10)\n",
    "\n",
    "plt.plot(x, y)\n",
    "plt.scatter(x, y)\n",
    "plt.show()\n"
   ]
  },
  {
   "cell_type": "markdown",
   "metadata": {},
   "source": [
    "#"
   ]
  },
  {
   "cell_type": "markdown",
   "metadata": {},
   "source": [
    "### 4. List Manipulation"
   ]
  },
  {
   "cell_type": "code",
   "execution_count": 19,
   "metadata": {},
   "outputs": [],
   "source": [
    "nums = [3, 5, 7, 9, 11, 13]"
   ]
  },
  {
   "cell_type": "markdown",
   "metadata": {},
   "source": [
    "Inserting `6` at the 3rd index:"
   ]
  },
  {
   "cell_type": "code",
   "execution_count": 20,
   "metadata": {},
   "outputs": [
    {
     "name": "stdout",
     "output_type": "stream",
     "text": [
      "[3, 5, 7, 6, 9, 11, 13]\n"
     ]
    }
   ],
   "source": [
    "nums.insert(3, 6)\n",
    "print(nums)"
   ]
  },
  {
   "cell_type": "markdown",
   "metadata": {},
   "source": [
    "Removing `7` from the list:"
   ]
  },
  {
   "cell_type": "code",
   "execution_count": 21,
   "metadata": {},
   "outputs": [
    {
     "name": "stdout",
     "output_type": "stream",
     "text": [
      "[3, 5, 6, 9, 11, 13]\n"
     ]
    }
   ],
   "source": [
    "nums.remove(7)\n",
    "print(nums)"
   ]
  },
  {
   "cell_type": "markdown",
   "metadata": {},
   "source": [
    "Reversing the list:"
   ]
  },
  {
   "cell_type": "code",
   "execution_count": 22,
   "metadata": {},
   "outputs": [
    {
     "name": "stdout",
     "output_type": "stream",
     "text": [
      "[13, 11, 9, 6, 5, 3]\n"
     ]
    }
   ],
   "source": [
    "nums = nums[::-1]\n",
    "print(nums)"
   ]
  },
  {
   "cell_type": "markdown",
   "metadata": {},
   "source": [
    "Calculating the mean and median and median of the list:"
   ]
  },
  {
   "cell_type": "code",
   "execution_count": 23,
   "metadata": {},
   "outputs": [
    {
     "name": "stdout",
     "output_type": "stream",
     "text": [
      "Mean = 7.83\n",
      "Median = 7.5\n"
     ]
    }
   ],
   "source": [
    "print(f\"Mean = {mean(nums)}\")\n",
    "print(f\"Median = {median(nums)}\")"
   ]
  },
  {
   "cell_type": "markdown",
   "metadata": {},
   "source": [
    "#"
   ]
  },
  {
   "cell_type": "markdown",
   "metadata": {},
   "source": [
    "### 5. User Input and Basic Statistics"
   ]
  },
  {
   "cell_type": "markdown",
   "metadata": {},
   "source": [
    "Writing code to read a comma-separated list of numbers from the user:"
   ]
  },
  {
   "cell_type": "code",
   "execution_count": 24,
   "metadata": {},
   "outputs": [
    {
     "name": "stdout",
     "output_type": "stream",
     "text": [
      "[4, 9, 2, 7, 1, 6, 10, 3, 5, 8, 7, 2, 6, 4, 9]\n"
     ]
    }
   ],
   "source": [
    "# random input - \"4,9,2,7,1,6,10,3,5,8,7,2,6,4,9\"\n",
    "inptlist = list(map(int, input().split(\",\")))\n",
    "print(inptlist)"
   ]
  },
  {
   "cell_type": "markdown",
   "metadata": {},
   "source": [
    "Calculating the mean of the list:"
   ]
  },
  {
   "cell_type": "code",
   "execution_count": 25,
   "metadata": {},
   "outputs": [
    {
     "name": "stdout",
     "output_type": "stream",
     "text": [
      "5.53\n"
     ]
    }
   ],
   "source": [
    "avg = mean(inptlist)\n",
    "print(avg)"
   ]
  },
  {
   "cell_type": "markdown",
   "metadata": {},
   "source": [
    "Printing the smallest and largest numbers:"
   ]
  },
  {
   "cell_type": "code",
   "execution_count": 26,
   "metadata": {},
   "outputs": [
    {
     "name": "stdout",
     "output_type": "stream",
     "text": [
      "Smallest = 1\n",
      "Largest = 10\n"
     ]
    }
   ],
   "source": [
    "smallest = min(inptlist)\n",
    "largest = max(inptlist)\n",
    "\n",
    "print(f\"Smallest = {smallest}\")\n",
    "print(f\"Largest = {largest}\")"
   ]
  },
  {
   "cell_type": "markdown",
   "metadata": {},
   "source": [
    "Plotting a histogram if the list:"
   ]
  },
  {
   "cell_type": "code",
   "execution_count": 27,
   "metadata": {},
   "outputs": [
    {
     "data": {
      "text/plain": [
       "<function matplotlib.pyplot.show(close=None, block=None)>"
      ]
     },
     "execution_count": 27,
     "metadata": {},
     "output_type": "execute_result"
    },
    {
     "data": {
      "image/png": "[encoded data removed]",
      "text/plain": [
       "<Figure size 640x480 with 1 Axes>"
      ]
     },
     "metadata": {},
     "output_type": "display_data"
    }
   ],
   "source": [
    "plt.hist(inptlist)\n",
    "plt.show"
   ]
  },
  {
   "cell_type": "markdown",
   "metadata": {},
   "source": [
    "#"
   ]
  },
  {
   "cell_type": "markdown",
   "metadata": {},
   "source": [
    "### 6. Palindrome Check"
   ]
  },
  {
   "cell_type": "code",
   "execution_count": 28,
   "metadata": {},
   "outputs": [],
   "source": [
    "inptstring = \"A man a plan a canal Panama\"  "
   ]
  },
  {
   "cell_type": "markdown",
   "metadata": {},
   "source": [
    "Checking if the string is a palindrome:"
   ]
  },
  {
   "cell_type": "code",
   "execution_count": 29,
   "metadata": {},
   "outputs": [
    {
     "name": "stdout",
     "output_type": "stream",
     "text": [
      "True\n"
     ]
    }
   ],
   "source": [
    "def palindrome(inpt):\n",
    "    result = \"\"\n",
    "    for i in inpt:\n",
    "        if i == \" \":\n",
    "            continue\n",
    "        else:\n",
    "            result += i.lower()\n",
    "\n",
    "    return result == result[::-1]\n",
    "\n",
    "\n",
    "print(palindrome(inptstring))\n"
   ]
  },
  {
   "cell_type": "markdown",
   "metadata": {},
   "source": [
    "#"
   ]
  },
  {
   "cell_type": "markdown",
   "metadata": {},
   "source": [
    "### 7. Dictionary Operations"
   ]
  },
  {
   "cell_type": "markdown",
   "metadata": {},
   "source": [
    "Creating the dictionary:"
   ]
  },
  {
   "cell_type": "code",
   "execution_count": 30,
   "metadata": {},
   "outputs": [],
   "source": [
    "student_marks = {\n",
    "    \"Aarav\": 88,\n",
    "    \"Vivaan\": 92,\n",
    "    \"Aditya\": 75,\n",
    "    \"Ishaan\": 84,\n",
    "    \"Krishna\": 79,\n",
    "    \"Ayaan\": 95,\n",
    "    \"Reyansh\": 83,\n",
    "    \"Arjun\": 76,\n",
    "    \"Sai\": 90,\n",
    "    \"Rohan\": 78,\n",
    "    \"Manan\": 85,\n",
    "    \"Kabir\": 92,\n",
    "    \"Shaurya\": 88,\n",
    "    \"Om\": 80,\n",
    "    \"Raghav\": 70\n",
    "}"
   ]
  },
  {
   "cell_type": "markdown",
   "metadata": {},
   "source": [
    "Calculating the average marks:"
   ]
  },
  {
   "cell_type": "code",
   "execution_count": 31,
   "metadata": {},
   "outputs": [
    {
     "name": "stdout",
     "output_type": "stream",
     "text": [
      "83.67\n"
     ]
    }
   ],
   "source": [
    "marks = []\n",
    "for i in student_marks:\n",
    "    marks.append(student_marks[i])\n",
    "\n",
    "avg = mean(marks)\n",
    "print(avg)"
   ]
  },
  {
   "cell_type": "markdown",
   "metadata": {},
   "source": [
    "Printing the names of students with above average marks:"
   ]
  },
  {
   "cell_type": "code",
   "execution_count": 32,
   "metadata": {},
   "outputs": [
    {
     "name": "stdout",
     "output_type": "stream",
     "text": [
      "Aarav\n",
      "Vivaan\n",
      "Ishaan\n",
      "Ayaan\n",
      "Sai\n",
      "Manan\n",
      "Kabir\n",
      "Shaurya\n"
     ]
    }
   ],
   "source": [
    "for i in student_marks:\n",
    "    if student_marks[i] > avg:\n",
    "        print(i)\n",
    "    else:\n",
    "        continue"
   ]
  },
  {
   "cell_type": "markdown",
   "metadata": {},
   "source": [
    "Putting the data in a bar chart:"
   ]
  },
  {
   "cell_type": "code",
   "execution_count": 33,
   "metadata": {},
   "outputs": [
    {
     "data": {
      "image/png": "[encoded data removed]",
      "text/plain": [
       "<Figure size 640x480 with 1 Axes>"
      ]
     },
     "metadata": {},
     "output_type": "display_data"
    }
   ],
   "source": [
    "students = [i[:2] for i in student_marks]\n",
    "\n",
    "plt.bar(students, marks)\n",
    "plt.show()"
   ]
  },
  {
   "cell_type": "markdown",
   "metadata": {},
   "source": [
    "#"
   ]
  },
  {
   "cell_type": "markdown",
   "metadata": {},
   "source": [
    "### 8. Tuple List Creation"
   ]
  },
  {
   "cell_type": "markdown",
   "metadata": {},
   "source": [
    "Creating the required list:"
   ]
  },
  {
   "cell_type": "code",
   "execution_count": 34,
   "metadata": {},
   "outputs": [],
   "source": [
    "squares = [(i, i**2) for i in range(1, 11)]"
   ]
  },
  {
   "cell_type": "markdown",
   "metadata": {},
   "source": [
    "Creating the scatter plot:"
   ]
  },
  {
   "cell_type": "code",
   "execution_count": 35,
   "metadata": {},
   "outputs": [
    {
     "data": {
      "image/png": "[encoded data removed]",
      "text/plain": [
       "<Figure size 640x480 with 1 Axes>"
      ]
     },
     "metadata": {},
     "output_type": "display_data"
    }
   ],
   "source": [
    "x = [i[0] for i in squares]\n",
    "y = [i[1] for i in squares]\n",
    "\n",
    "plt.scatter(x, y)\n",
    "plt.show()"
   ]
  },
  {
   "cell_type": "markdown",
   "metadata": {},
   "source": [
    "#"
   ]
  },
  {
   "cell_type": "markdown",
   "metadata": {},
   "source": [
    "### 9. Merging Dictionaries"
   ]
  },
  {
   "cell_type": "code",
   "execution_count": 36,
   "metadata": {},
   "outputs": [],
   "source": [
    "dict_1 = {\"a\": 7, \"b\": 3, \"c\": 5, \"d\": 9, \"e\": 2, \"f\": 8, \"g\": 4, \"h\": 6, \"i\": 1, \"j\": 10}\n",
    "dict_2 = {\"c\": 4, \"d\": 2, \"e\": 7, \"f\": 9, \"g\": 3, \"h\": 8, \"i\": 6, \"j\": 5, \"k\": 10, \"l\": 1}"
   ]
  },
  {
   "cell_type": "markdown",
   "metadata": {},
   "source": [
    "Writing code to merge the dictionaries:"
   ]
  },
  {
   "cell_type": "code",
   "execution_count": 37,
   "metadata": {},
   "outputs": [
    {
     "name": "stdout",
     "output_type": "stream",
     "text": [
      "{'a': 7, 'b': 3, 'c': 9, 'd': 11, 'e': 9, 'f': 17, 'g': 7, 'h': 14, 'i': 7, 'j': 15, 'k': 10, 'l': 1}\n"
     ]
    }
   ],
   "source": [
    "merged_dict = dict_1\n",
    "for i in dict_2:\n",
    "    try:\n",
    "        merged_dict[i] += dict_2[i]\n",
    "    except:\n",
    "        merged_dict[i] = dict_2[i]\n",
    "\n",
    "print(merged_dict)"
   ]
  },
  {
   "cell_type": "markdown",
   "metadata": {},
   "source": [
    "#"
   ]
  },
  {
   "cell_type": "markdown",
   "metadata": {},
   "source": [
    "### 10. Character Frequency"
   ]
  },
  {
   "cell_type": "markdown",
   "metadata": {},
   "source": [
    "Creating the required function:"
   ]
  },
  {
   "cell_type": "code",
   "execution_count": 38,
   "metadata": {},
   "outputs": [],
   "source": [
    "def character_frequency(str):\n",
    "    result = {}\n",
    "    for i in str:\n",
    "        try:\n",
    "            result[i.lower()] += 1\n",
    "        except:\n",
    "            result[i.lower()] = 1\n",
    "\n",
    "    return result"
   ]
  },
  {
   "cell_type": "markdown",
   "metadata": {},
   "source": [
    "Taking input (string with random letters both uppercase and lowercase), and printing the output:"
   ]
  },
  {
   "cell_type": "code",
   "execution_count": 39,
   "metadata": {},
   "outputs": [
    {
     "name": "stdout",
     "output_type": "stream",
     "text": [
      "{'x': 3, 'h': 2, 'l': 3, 'z': 3, 'p': 4, 'q': 3, 'r': 3, 'n': 3, 'b': 4, 'v': 4, 'w': 3, 'j': 3, 'k': 3, 'm': 3, 'c': 3, 'u': 2, 'o': 2, 'y': 3, 'f': 3, 'd': 2, 's': 3, 'g': 2, 't': 4, 'e': 1, 'i': 2, 'a': 1}\n"
     ]
    }
   ],
   "source": [
    "# random string - XhLzPqRnBvWjKmCqUoZyFfDsGtJtMwVbNyUoKxEiIaLgRrTpWhVkYcSzQlXpCmJtFsVnPbBd\n",
    "inptstring = input()\n",
    "\n",
    "result = character_frequency(inptstring)\n",
    "print(result)"
   ]
  },
  {
   "cell_type": "markdown",
   "metadata": {},
   "source": [
    "Creating a bar chart to visualise the data:"
   ]
  },
  {
   "cell_type": "code",
   "execution_count": 40,
   "metadata": {},
   "outputs": [
    {
     "data": {
      "image/png": "[encoded data removed]",
      "text/plain": [
       "<Figure size 640x480 with 1 Axes>"
      ]
     },
     "metadata": {},
     "output_type": "display_data"
    }
   ],
   "source": [
    "letters = [i[0] for i in sorted(result.items())]\n",
    "freq = [i[1] for i in sorted(result.items())]\n",
    "\n",
    "plt.bar(letters, freq)\n",
    "plt.show()"
   ]
  },
  {
   "cell_type": "markdown",
   "metadata": {},
   "source": [
    "#"
   ]
  },
  {
   "cell_type": "markdown",
   "metadata": {},
   "source": [
    "### 11. Remove Duplicates"
   ]
  },
  {
   "cell_type": "code",
   "execution_count": 41,
   "metadata": {},
   "outputs": [
    {
     "name": "stdout",
     "output_type": "stream",
     "text": [
      "[12, 3, 8, 7, 1, 10, 5, 9, 14, 15, 6, 4, 2, 13, 11]\n"
     ]
    }
   ],
   "source": [
    "inptlist = [12, 3, 8, 7, 1, 10, 5, 12, 9, 14, 15, 6, 4, 2, 13, 8, 7, 15, 6, 4, 11, 10, 9, 3, 14, 12, 5, 13, 1, 2]\n",
    "\n",
    "def remove_duplicates(arr):\n",
    "    result = []\n",
    "    seen = set()\n",
    "    for i in arr:\n",
    "        if i in seen:\n",
    "            continue\n",
    "        else:\n",
    "            result.append(i)\n",
    "            seen.add(i)\n",
    "\n",
    "    return result\n",
    "\n",
    "print(remove_duplicates(inptlist))\n"
   ]
  },
  {
   "cell_type": "markdown",
   "metadata": {},
   "source": [
    "Calculating mean and median of the remaining elements:"
   ]
  },
  {
   "cell_type": "code",
   "execution_count": 42,
   "metadata": {},
   "outputs": [
    {
     "name": "stdout",
     "output_type": "stream",
     "text": [
      "Mean = 8.0\n",
      "Median = 8\n"
     ]
    }
   ],
   "source": [
    "newlist = remove_duplicates(inptlist)\n",
    "print(f\"Mean = {mean(newlist)}\")\n",
    "print(f\"Median = {median(newlist)}\")"
   ]
  },
  {
   "cell_type": "markdown",
   "metadata": {},
   "source": [
    "#"
   ]
  },
  {
   "cell_type": "markdown",
   "metadata": {},
   "source": [
    "### 12. String Operations"
   ]
  },
  {
   "cell_type": "code",
   "execution_count": 43,
   "metadata": {},
   "outputs": [],
   "source": [
    "random_strings = [\n",
    "    \"A\", \"bRsTg\", \"iOpUt\", \"X\", \"ZaeY\", \"XvDo\", \n",
    "    \"Ae\", \"xNRa\", \"UvBtwd\", \"OpVni\", \"M\", \"eQoDr\", \n",
    "    \"BJcZyX\", \"lEvi\", \"VgD\", \"AumUhNi\", \"FkPtpkQ\", \"IgRuM\", \n",
    "    \"vKwueHp\", \"Ynql\"\n",
    "]\n"
   ]
  },
  {
   "cell_type": "markdown",
   "metadata": {},
   "source": [
    "Finding the longest string:"
   ]
  },
  {
   "cell_type": "code",
   "execution_count": 44,
   "metadata": {},
   "outputs": [
    {
     "name": "stdout",
     "output_type": "stream",
     "text": [
      "AumUhNi\n"
     ]
    }
   ],
   "source": [
    "longest = \"\"\n",
    "for i in random_strings:\n",
    "    if len(i) > len(longest):\n",
    "        longest = i\n",
    "    else:\n",
    "        continue\n",
    "\n",
    "print(longest)"
   ]
  },
  {
   "cell_type": "markdown",
   "metadata": {},
   "source": [
    "Counting how many strings start with a vowel:"
   ]
  },
  {
   "cell_type": "code",
   "execution_count": 45,
   "metadata": {},
   "outputs": [
    {
     "name": "stdout",
     "output_type": "stream",
     "text": [
      "8\n"
     ]
    }
   ],
   "source": [
    "vowels = set([\"a\", \"e\", \"i\", \"o\", \"u\"])\n",
    "count = 0\n",
    "\n",
    "for i in random_strings:\n",
    "    if i[0].lower() in vowels:\n",
    "        count += 1\n",
    "    else:\n",
    "        continue\n",
    "\n",
    "print(count)"
   ]
  },
  {
   "cell_type": "markdown",
   "metadata": {},
   "source": [
    "Making a histogram of the lengths of strings:"
   ]
  },
  {
   "cell_type": "code",
   "execution_count": 46,
   "metadata": {},
   "outputs": [
    {
     "data": {
      "image/png": "[encoded data removed]",
      "text/plain": [
       "<Figure size 640x480 with 1 Axes>"
      ]
     },
     "metadata": {},
     "output_type": "display_data"
    }
   ],
   "source": [
    "lengths = [len(i) for i in random_strings]\n",
    "\n",
    "plt.hist(lengths)\n",
    "plt.show()"
   ]
  },
  {
   "cell_type": "markdown",
   "metadata": {},
   "source": [
    "#"
   ]
  },
  {
   "cell_type": "markdown",
   "metadata": {},
   "source": [
    "### 13. Sorting Dictionaries"
   ]
  },
  {
   "cell_type": "code",
   "execution_count": 1,
   "metadata": {},
   "outputs": [],
   "source": [
    "data = [\n",
    "    {\"name\": \"Aarav\", \"age\": 24},\n",
    "    {\"name\": \"Vivaan\", \"age\": 30},\n",
    "    {\"name\": \"Aditya\", \"age\": 28},\n",
    "    {\"name\": \"Ishaan\", \"age\": 22},\n",
    "    {\"name\": \"Krishna\", \"age\": 26},\n",
    "    {\"name\": \"Ayaan\", \"age\": 31},\n",
    "    {\"name\": \"Reyansh\", \"age\": 23},\n",
    "    {\"name\": \"Arjun\", \"age\": 25},\n",
    "    {\"name\": \"Sai\", \"age\": 27},\n",
    "    {\"name\": \"Rohan\", \"age\": 29},\n",
    "    {\"name\": \"Manan\", \"age\": 32},\n",
    "    {\"name\": \"Kabir\", \"age\": 21},\n",
    "    {\"name\": \"Shaurya\", \"age\": 33},\n",
    "    {\"name\": \"Om\", \"age\": 35},\n",
    "    {\"name\": \"Raghav\", \"age\": 34}\n",
    "]"
   ]
  },
  {
   "cell_type": "markdown",
   "metadata": {},
   "source": [
    "Sorting the list based on a key(age):"
   ]
  },
  {
   "cell_type": "code",
   "execution_count": 3,
   "metadata": {},
   "outputs": [
    {
     "name": "stdout",
     "output_type": "stream",
     "text": [
      "[{'name': 'Kabir', 'age': 21}, {'name': 'Ishaan', 'age': 22}, {'name': 'Reyansh', 'age': 23}, {'name': 'Aarav', 'age': 24}, {'name': 'Arjun', 'age': 25}, {'name': 'Krishna', 'age': 26}, {'name': 'Sai', 'age': 27}, {'name': 'Aditya', 'age': 28}, {'name': 'Rohan', 'age': 29}, {'name': 'Vivaan', 'age': 30}, {'name': 'Ayaan', 'age': 31}, {'name': 'Manan', 'age': 32}, {'name': 'Shaurya', 'age': 33}, {'name': 'Raghav', 'age': 34}, {'name': 'Om', 'age': 35}]\n"
     ]
    }
   ],
   "source": [
    "sorteddata = sorted(data, key= lambda x: x[\"age\"])\n",
    "print(sorteddata)"
   ]
  },
  {
   "cell_type": "markdown",
   "metadata": {},
   "source": [
    "#"
   ]
  },
  {
   "cell_type": "markdown",
   "metadata": {},
   "source": [
    "### 14. Word Filtering and Sorting"
   ]
  },
  {
   "cell_type": "code",
   "execution_count": 49,
   "metadata": {},
   "outputs": [
    {
     "name": "stdout",
     "output_type": "stream",
     "text": [
      "['The', 'quick', 'brown', 'fox', 'jumped', 'over', 'the', 'lazy', 'dog', 'while', 'the', 'birds', 'flew', 'high', 'above']\n"
     ]
    }
   ],
   "source": [
    "# Random Input - \"The quick brown fox jumped over the lazy dog while the birds flew high above\"\n",
    "inptstring = input()\n",
    "inptlist = inptstring.split()\n",
    "print(inptlist)\n"
   ]
  },
  {
   "cell_type": "markdown",
   "metadata": {},
   "source": [
    "Removing all words with less than 4 characters:"
   ]
  },
  {
   "cell_type": "code",
   "execution_count": 50,
   "metadata": {},
   "outputs": [
    {
     "name": "stdout",
     "output_type": "stream",
     "text": [
      "['quick', 'brown', 'jumped', 'over', 'lazy', 'while', 'birds', 'flew', 'high', 'above']\n"
     ]
    }
   ],
   "source": [
    "\n",
    "for i in inptlist:\n",
    "    if len(i) < 4:\n",
    "        inptlist.remove(i)\n",
    "    else:\n",
    "        continue\n",
    "\n",
    "\n",
    "print(inptlist)\n"
   ]
  },
  {
   "cell_type": "markdown",
   "metadata": {},
   "source": [
    "Sorting the remaining list alphabetically:"
   ]
  },
  {
   "cell_type": "code",
   "execution_count": 51,
   "metadata": {},
   "outputs": [
    {
     "name": "stdout",
     "output_type": "stream",
     "text": [
      "['above', 'birds', 'brown', 'flew', 'high', 'jumped', 'lazy', 'over', 'quick', 'while']\n"
     ]
    }
   ],
   "source": [
    "inptlist = sorted(inptlist)\n",
    "print(inptlist)"
   ]
  },
  {
   "cell_type": "markdown",
   "metadata": {},
   "source": [
    "Plotting the lengths of the words in a bar chart:"
   ]
  },
  {
   "cell_type": "code",
   "execution_count": 52,
   "metadata": {},
   "outputs": [
    {
     "data": {
      "image/png": "[encoded data removed]",
      "text/plain": [
       "<Figure size 640x480 with 1 Axes>"
      ]
     },
     "metadata": {},
     "output_type": "display_data"
    }
   ],
   "source": [
    "lengths = [len(i) for i in inptlist]\n",
    "\n",
    "plt.bar(inptlist, lengths)\n",
    "plt.show()"
   ]
  },
  {
   "cell_type": "markdown",
   "metadata": {},
   "source": [
    "#"
   ]
  },
  {
   "cell_type": "markdown",
   "metadata": {},
   "source": [
    "### 15. Anagram Finder"
   ]
  },
  {
   "cell_type": "code",
   "execution_count": 53,
   "metadata": {},
   "outputs": [],
   "source": [
    "words = [\"enlist\", \"google\", \"inlets\", \"banana\"]\n",
    "word = \"listen\""
   ]
  },
  {
   "cell_type": "markdown",
   "metadata": {},
   "source": [
    "Finding the anagrams in the list:"
   ]
  },
  {
   "cell_type": "code",
   "execution_count": 54,
   "metadata": {},
   "outputs": [
    {
     "name": "stdout",
     "output_type": "stream",
     "text": [
      "['enlist', 'inlets']\n"
     ]
    }
   ],
   "source": [
    "def anagrams(word, words):\n",
    "    anagrams = []\n",
    "    wordlist = sorted(list(word))\n",
    "    for i in words:\n",
    "        if sorted(list(i)) == wordlist:\n",
    "            anagrams.append(i)\n",
    "        else:\n",
    "            continue\n",
    "\n",
    "    return anagrams\n",
    "\n",
    "\n",
    "print(anagrams(word, words))\n"
   ]
  },
  {
   "cell_type": "markdown",
   "metadata": {},
   "source": [
    "#"
   ]
  },
  {
   "cell_type": "markdown",
   "metadata": {},
   "source": [
    "### 16. Set Operations"
   ]
  },
  {
   "cell_type": "code",
   "execution_count": 3,
   "metadata": {},
   "outputs": [],
   "source": [
    "nums1 = set([1, 2, 3, 4, 5, 6, 7])\n",
    "nums2 = set([4, 5, 6, 7, 8, 9, 10])"
   ]
  },
  {
   "cell_type": "markdown",
   "metadata": {},
   "source": [
    "Finding intersection, union and symmetric difference:"
   ]
  },
  {
   "cell_type": "code",
   "execution_count": 4,
   "metadata": {},
   "outputs": [
    {
     "name": "stdout",
     "output_type": "stream",
     "text": [
      "Union = {1, 2, 3, 4, 5, 6, 7, 8, 9, 10}\n",
      "Intersection = {4, 5, 6, 7}\n",
      "Symmetric Difference = {1, 2, 3, 8, 9, 10}\n"
     ]
    }
   ],
   "source": [
    "un = nums1.union(nums2)\n",
    "intersec = nums1.intersection(nums2)\n",
    "sd = nums1.symmetric_difference(nums2)\n",
    "\n",
    "print(f\"Union = {un}\")\n",
    "print(f\"Intersection = {intersec}\")\n",
    "print(f\"Symmetric Difference = {sd}\")"
   ]
  },
  {
   "cell_type": "markdown",
   "metadata": {},
   "source": [
    "Plotting a venn diagram of the sets:"
   ]
  },
  {
   "cell_type": "code",
   "execution_count": 5,
   "metadata": {},
   "outputs": [
    {
     "data": {
      "image/png": "[encoded data removed]",
      "text/plain": [
       "<Figure size 640x480 with 1 Axes>"
      ]
     },
     "metadata": {},
     "output_type": "display_data"
    }
   ],
   "source": [
    "import matplotlib.pyplot as plt\n",
    "from matplotlib_venn import venn2\n",
    "\n",
    "venn2([nums1, nums2], ('Nums1', 'Nums2'))\n",
    "plt.show()"
   ]
  },
  {
   "cell_type": "markdown",
   "metadata": {},
   "source": [
    "#"
   ]
  },
  {
   "cell_type": "markdown",
   "metadata": {},
   "source": [
    "### 17. File Operations"
   ]
  },
  {
   "cell_type": "markdown",
   "metadata": {},
   "source": [
    "Creating a text file and writing numbers to it in every line:"
   ]
  },
  {
   "cell_type": "code",
   "execution_count": 1,
   "metadata": {},
   "outputs": [],
   "source": [
    "f = open('nums.txt', 'w')\n",
    "\n",
    "random_numbers = ['7', '3', '12', '55', '1', '99', '8', '43', '21', '6']\n",
    "\n",
    "for number in random_numbers:\n",
    "    f.write(number + '\\n')\n",
    "\n",
    "f.close()\n"
   ]
  },
  {
   "cell_type": "markdown",
   "metadata": {},
   "source": [
    "Reading the numbers in the text file and computing their sum:"
   ]
  },
  {
   "cell_type": "code",
   "execution_count": 2,
   "metadata": {},
   "outputs": [
    {
     "name": "stdout",
     "output_type": "stream",
     "text": [
      "255\n"
     ]
    }
   ],
   "source": [
    "f = open('nums.txt', 'r')\n",
    "\n",
    "sum = 0\n",
    "\n",
    "for line in f:\n",
    "    sum += int(line)\n",
    "\n",
    "f.close()\n",
    "print(sum)"
   ]
  },
  {
   "cell_type": "markdown",
   "metadata": {},
   "source": [
    "#"
   ]
  },
  {
   "cell_type": "markdown",
   "metadata": {},
   "source": [
    "### 18. Word Count and Frequency"
   ]
  },
  {
   "cell_type": "markdown",
   "metadata": {},
   "source": [
    "Writing code to create a file and count the words in it:"
   ]
  },
  {
   "cell_type": "code",
   "execution_count": 7,
   "metadata": {},
   "outputs": [
    {
     "name": "stdout",
     "output_type": "stream",
     "text": [
      "Total words = 160\n",
      "Highest frequency word = the\n"
     ]
    }
   ],
   "source": [
    "f = open('Paragraph.txt', 'r')\n",
    "\n",
    "worddict = {}\n",
    "totalcount = 0\n",
    "\n",
    "for line in f:\n",
    "    line.replace('.', '')\n",
    "    words = line.split()\n",
    "\n",
    "    for word in words:\n",
    "        totalcount += 1\n",
    "        try:\n",
    "            worddict[word.lower()] += 1\n",
    "        except:\n",
    "            worddict[word.lower()] = 1\n",
    "\n",
    "f.close()\n",
    "\n",
    "highestFreqWord = ''\n",
    "highestFreq = 0\n",
    "for i in worddict:\n",
    "    if worddict[i] > highestFreq:\n",
    "        highestFreqWord = i\n",
    "        highestFreq = worddict[i]\n",
    "\n",
    "    else:\n",
    "        continue\n",
    "\n",
    "print(f\"Total words = {totalcount}\")\n",
    "print(f\"Highest frequency word = {highestFreqWord}\")\n",
    "    "
   ]
  },
  {
   "cell_type": "markdown",
   "metadata": {},
   "source": [
    "Creating a bar chart to visualise the word frequencies:"
   ]
  },
  {
   "cell_type": "code",
   "execution_count": 18,
   "metadata": {},
   "outputs": [
    {
     "data": {
      "image/png": "[encoded data removed]",
      "text/plain": [
       "<Figure size 1000x10000 with 1 Axes>"
      ]
     },
     "metadata": {},
     "output_type": "display_data"
    }
   ],
   "source": [
    "words, freq = zip(*(worddict.items()))\n",
    "\n",
    "plt.figure(figsize=(10,100))\n",
    "plt.barh(words, freq)\n",
    "plt.show()"
   ]
  },
  {
   "cell_type": "markdown",
   "metadata": {},
   "source": [
    "#"
   ]
  },
  {
   "cell_type": "markdown",
   "metadata": {},
   "source": [
    "### 19. Random Number Generation"
   ]
  },
  {
   "cell_type": "markdown",
   "metadata": {},
   "source": [
    "Generating 100 random numbers between 1, 50 and writing them to a file:"
   ]
  },
  {
   "cell_type": "code",
   "execution_count": 53,
   "metadata": {},
   "outputs": [],
   "source": [
    "import numpy as np\n",
    "from numpy import random\n",
    "\n",
    "random_numbers = random.randint(1, 51, size=100)\n",
    "\n",
    "f = open('random_numbers.txt', 'w')\n",
    "\n",
    "for number in random_numbers:\n",
    "    f.write(str(number) + '\\n')\n",
    "\n",
    "f.close()"
   ]
  },
  {
   "cell_type": "markdown",
   "metadata": {},
   "source": [
    "Reading the file and computing the mean of the numbers:"
   ]
  },
  {
   "cell_type": "code",
   "execution_count": 54,
   "metadata": {},
   "outputs": [
    {
     "name": "stdout",
     "output_type": "stream",
     "text": [
      "Mean of the numbers = 24.36\n"
     ]
    }
   ],
   "source": [
    "f = open('random_numbers.txt', 'r')\n",
    "\n",
    "rnums = []\n",
    "for num in f:\n",
    "    rnums.append(int(num))\n",
    "\n",
    "f.close()\n",
    "\n",
    "print(f\"Mean of the numbers = {mean(rnums)}\")"
   ]
  },
  {
   "cell_type": "markdown",
   "metadata": {},
   "source": [
    "Creating a histogram of the numbers:"
   ]
  },
  {
   "cell_type": "code",
   "execution_count": 55,
   "metadata": {},
   "outputs": [
    {
     "data": {
      "text/plain": [
       "<function matplotlib.pyplot.show(close=None, block=None)>"
      ]
     },
     "execution_count": 55,
     "metadata": {},
     "output_type": "execute_result"
    },
    {
     "data": {
      "image/png": "[encoded data removed]",
      "text/plain": [
       "<Figure size 640x480 with 1 Axes>"
      ]
     },
     "metadata": {},
     "output_type": "display_data"
    }
   ],
   "source": [
    "plt.hist(rnums)\n",
    "plt.show"
   ]
  },
  {
   "cell_type": "markdown",
   "metadata": {},
   "source": [
    "#"
   ]
  },
  {
   "cell_type": "markdown",
   "metadata": {},
   "source": [
    "### 20. CSV File Operations"
   ]
  },
  {
   "cell_type": "markdown",
   "metadata": {},
   "source": [
    "Writing code to read a CSV file and find the sum of the numbers in a particular(here, 2nd) column:"
   ]
  },
  {
   "cell_type": "code",
   "execution_count": 76,
   "metadata": {},
   "outputs": [
    {
     "name": "stdout",
     "output_type": "stream",
     "text": [
      "312\n"
     ]
    }
   ],
   "source": [
    "import pandas as pd\n",
    "\n",
    "data = pd.read_csv('CSV_file_of_random_numbers.csv')\n",
    "column2Sum = data['Column2'].sum()\n",
    "print(column2Sum)"
   ]
  },
  {
   "cell_type": "markdown",
   "metadata": {},
   "source": [
    "Plotting the data in a line graph:"
   ]
  },
  {
   "cell_type": "code",
   "execution_count": 77,
   "metadata": {},
   "outputs": [
    {
     "data": {
      "text/plain": [
       "<function matplotlib.pyplot.show(close=None, block=None)>"
      ]
     },
     "execution_count": 77,
     "metadata": {},
     "output_type": "execute_result"
    },
    {
     "data": {
      "image/png": "[encoded data removed]",
      "text/plain": [
       "<Figure size 640x480 with 1 Axes>"
      ]
     },
     "metadata": {},
     "output_type": "display_data"
    }
   ],
   "source": [
    "column1 = data['Column1'].to_list()\n",
    "column2 = data['Column2'].to_list()\n",
    "column3 = data['Column3'].to_list()\n",
    "\n",
    "indices = [i for i in range(1, len(column1) + 1)]\n",
    "\n",
    "plt.plot(indices, column1, color='red', label='Column1')\n",
    "plt.plot(indices, column2, color='green', label='Column2')\n",
    "plt.plot(indices, column3, label='Column3')\n",
    "\n",
    "plt.show"
   ]
  },
  {
   "cell_type": "markdown",
   "metadata": {},
   "source": [
    "### 21. Basic Statistics"
   ]
  },
  {
   "cell_type": "markdown",
   "metadata": {},
   "source": [
    "Writing functions to find the mean, median and mode of a list of numbers:"
   ]
  },
  {
   "cell_type": "code",
   "execution_count": 27,
   "metadata": {},
   "outputs": [],
   "source": [
    "def mean(arr):\n",
    "    result = sum(arr)/len(arr)\n",
    "    return round(result, 2)\n",
    "\n",
    "def median(arr):\n",
    "    mid = len(arr)//2\n",
    "    array = sorted(arr)\n",
    "\n",
    "    if len(arr)%2 == 0:\n",
    "        total = array[mid] + array[mid - 1]\n",
    "        return total/2\n",
    "    else:\n",
    "        return array[mid]\n",
    "    \n",
    "def mode(arr):\n",
    "    freqDict = {}\n",
    "    for i in arr:\n",
    "        try:\n",
    "            freqDict[i] += 1\n",
    "        except:\n",
    "            freqDict[i] = 1\n",
    "\n",
    "    sortedList = list(sorted(freqDict.items(), key= lambda x: x[1], reverse=True))\n",
    "    return (sortedList[0])[0]\n",
    "\n",
    "\n",
    "\n",
    "def standard_deviation(arr):\n",
    "    avg = mean(arr)\n",
    "    deviations = []\n",
    "    for i in arr:\n",
    "        deviations.append((i - avg)**2)\n",
    "    var = mean(deviations)\n",
    "    stddev = var**(0.5)\n",
    "\n",
    "    return round(stddev, 2)"
   ]
  },
  {
   "cell_type": "markdown",
   "metadata": {},
   "source": [
    "Creating a list of random integers and finding the mean, median, mode, and standard deviation of the numbers:"
   ]
  },
  {
   "cell_type": "code",
   "execution_count": 48,
   "metadata": {},
   "outputs": [
    {
     "name": "stdout",
     "output_type": "stream",
     "text": [
      "Mean = 6.16\n",
      "Median = 6\n",
      "Mode = 9\n",
      "Standard deviation = 2.95\n"
     ]
    }
   ],
   "source": [
    "rnums = random.randint(1, 11, size=25)\n",
    "print(f\"Mean = {mean(rnums)}\")\n",
    "print(f\"Median = {median(rnums)}\")\n",
    "print(f\"Mode = {mode(rnums)}\")\n",
    "print(f\"Standard deviation = {standard_deviation(rnums)}\")"
   ]
  },
  {
   "cell_type": "markdown",
   "metadata": {},
   "source": [
    "Making a boxplot of the data"
   ]
  },
  {
   "cell_type": "code",
   "execution_count": 49,
   "metadata": {},
   "outputs": [
    {
     "data": {
      "image/png": "[encoded data removed]",
      "text/plain": [
       "<Figure size 640x480 with 1 Axes>"
      ]
     },
     "metadata": {},
     "output_type": "display_data"
    }
   ],
   "source": [
    "plt.boxplot(rnums)\n",
    "plt.show()"
   ]
  },
  {
   "cell_type": "markdown",
   "metadata": {},
   "source": [
    "#"
   ]
  },
  {
   "cell_type": "markdown",
   "metadata": {},
   "source": [
    "### 22. Normalization"
   ]
  },
  {
   "cell_type": "markdown",
   "metadata": {},
   "source": [
    "Writing a function to normalize a list of numbers:"
   ]
  },
  {
   "cell_type": "code",
   "execution_count": 42,
   "metadata": {},
   "outputs": [],
   "source": [
    "def normalization(arr):\n",
    "    minimum = min(arr)\n",
    "    newlist = []\n",
    "\n",
    "    for i in arr:\n",
    "        newlist.append(i-minimum)\n",
    "\n",
    "    normalizedNums = []\n",
    "\n",
    "    for i in newlist:\n",
    "        normalizedNums.append(round(float(i/max(newlist)), 2))\n",
    "\n",
    "    return normalizedNums"
   ]
  },
  {
   "cell_type": "markdown",
   "metadata": {},
   "source": [
    "Making a list of random numbers and normalizing them:"
   ]
  },
  {
   "cell_type": "code",
   "execution_count": 46,
   "metadata": {},
   "outputs": [
    {
     "name": "stdout",
     "output_type": "stream",
     "text": [
      "[12 13 13 14  5  1  3  8 14  6  5  1  5  8 10  1  4  8  2  9  7 14  2 15\n",
      " 12  5  3 11 12  3]\n",
      "Normalized list = [0.79, 0.86, 0.86, 0.93, 0.29, 0.0, 0.14, 0.5, 0.93, 0.36, 0.29, 0.0, 0.29, 0.5, 0.64, 0.0, 0.21, 0.5, 0.07, 0.57, 0.43, 0.93, 0.07, 1.0, 0.79, 0.29, 0.14, 0.71, 0.79, 0.14]\n"
     ]
    }
   ],
   "source": [
    "rnums = random.randint(1, 16, size=30)\n",
    "print(rnums)\n",
    "print(f\"Normalized list = {normalization(rnums)}\")\n"
   ]
  },
  {
   "cell_type": "markdown",
   "metadata": {},
   "source": [
    "Visualizing the data:"
   ]
  },
  {
   "cell_type": "code",
   "execution_count": 47,
   "metadata": {},
   "outputs": [
    {
     "data": {
      "text/plain": [
       "<function matplotlib.pyplot.show(close=None, block=None)>"
      ]
     },
     "execution_count": 47,
     "metadata": {},
     "output_type": "execute_result"
    },
    {
     "data": {
      "image/png": "[encoded data removed]",
      "text/plain": [
       "<Figure size 640x480 with 1 Axes>"
      ]
     },
     "metadata": {},
     "output_type": "display_data"
    }
   ],
   "source": [
    "indices = [i for i in range(1, len(rnums) + 1)]\n",
    "\n",
    "plt.plot(indices, rnums, color='red', label='Initial data')\n",
    "plt.plot(indices, normalization(rnums), label='Normalized data')\n",
    "plt.legend()\n",
    "plt.show"
   ]
  },
  {
   "cell_type": "markdown",
   "metadata": {},
   "source": [
    "#"
   ]
  },
  {
   "cell_type": "markdown",
   "metadata": {},
   "source": [
    "### 23. Even or Odd"
   ]
  },
  {
   "cell_type": "markdown",
   "metadata": {},
   "source": [
    "Writing code to find if a given number is even or odd:"
   ]
  },
  {
   "cell_type": "code",
   "execution_count": 60,
   "metadata": {},
   "outputs": [
    {
     "name": "stdout",
     "output_type": "stream",
     "text": [
      "Random number = 38\n",
      "Even\n"
     ]
    }
   ],
   "source": [
    "random_number = random.randint(1,51)\n",
    "print(f\"Random number = {random_number}\")\n",
    "\n",
    "checkingList = list(bin(random_number)[2:])[::-1]\n",
    "\n",
    "if checkingList[0] == '1':\n",
    "    print('Odd')\n",
    "else:\n",
    "    print('Even')\n"
   ]
  },
  {
   "cell_type": "markdown",
   "metadata": {},
   "source": [
    "#"
   ]
  },
  {
   "cell_type": "markdown",
   "metadata": {},
   "source": [
    "### 24. Grade Calculator"
   ]
  },
  {
   "cell_type": "markdown",
   "metadata": {},
   "source": [
    "Writing code that takes a numerical input between 1 and 100 and outputs a corresponding grade(A, B, C, D, F):"
   ]
  },
  {
   "cell_type": "code",
   "execution_count": 62,
   "metadata": {},
   "outputs": [
    {
     "name": "stdout",
     "output_type": "stream",
     "text": [
      "Marks = 65\n",
      "Grade: C\n"
     ]
    }
   ],
   "source": [
    "# Random input = 65\n",
    "marks = int(input())\n",
    "print(f\"Marks = {marks}\")\n",
    "\n",
    "if 100 >= marks >= 90:\n",
    "    print(\"Grade: A\")\n",
    "elif 90 > marks >= 75:\n",
    "    print(\"Grade: B\")\n",
    "elif 75 > marks >= 65:\n",
    "    print(\"Grade: C\")\n",
    "elif 65 > marks >= 50:\n",
    "    print(\"Grade: D\")\n",
    "else:\n",
    "    print(\"Grade: F\")"
   ]
  },
  {
   "cell_type": "markdown",
   "metadata": {},
   "source": [
    "#"
   ]
  },
  {
   "cell_type": "markdown",
   "metadata": {},
   "source": [
    "### 25. Leap Year Checker"
   ]
  },
  {
   "cell_type": "markdown",
   "metadata": {},
   "source": [
    "Writing code to check if a given year is a leap year or not:"
   ]
  },
  {
   "cell_type": "code",
   "execution_count": 64,
   "metadata": {},
   "outputs": [
    {
     "name": "stdout",
     "output_type": "stream",
     "text": [
      "Year = 2300\n",
      "Not a Leap Year\n"
     ]
    }
   ],
   "source": [
    "# Random Year = 2300\n",
    "\n",
    "year = int(input())\n",
    "print(f\"Year = {year}\")\n",
    "\n",
    "if year%400 == 0:\n",
    "    print(\"Leap Year\")\n",
    "elif year%100 == 0:\n",
    "    print(\"Not a Leap Year\")\n",
    "elif year%4 == 0:\n",
    "    print(\"Leap Year\")\n",
    "else:\n",
    "    print(\"Not a Leap Year\")\n"
   ]
  }
 ],
 "metadata": {
  "kernelspec": {
   "display_name": "Python 3",
   "language": "python",
   "name": "python3"
  },
  "language_info": {
   "codemirror_mode": {
    "name": "ipython",
    "version": 3
   },
   "file_extension": ".py",
   "mimetype": "text/x-python",
   "name": "python",
   "nbconvert_exporter": "python",
   "pygments_lexer": "ipython3",
   "version": "3.13.1"
  }
 },
 "nbformat": 4,
 "nbformat_minor": 2
}
